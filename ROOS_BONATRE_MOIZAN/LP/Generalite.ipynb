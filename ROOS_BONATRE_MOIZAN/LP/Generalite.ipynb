{
 "metadata": {
  "language_info": {
   "codemirror_mode": {
    "name": "ipython",
    "version": 3
   },
   "file_extension": ".py",
   "mimetype": "text/x-python",
   "name": "python",
   "nbconvert_exporter": "python",
   "pygments_lexer": "ipython3",
   "version": "3.7.4-final"
  },
  "orig_nbformat": 2,
  "kernelspec": {
   "name": "Python 3.7.4 64-bit ('base': conda)",
   "display_name": "Python 3.7.4 64-bit ('base': conda)",
   "metadata": {
    "interpreter": {
     "hash": "ada840b42c9a93eaee2ffb04e178b382cf20901f687868ab8049fdffba9cb30b"
    }
   }
  }
 },
 "nbformat": 4,
 "nbformat_minor": 2,
 "cells": [
  {
   "source": [
    "<div style=\"float:right;padding-top:20px\">\n",
    "   <img src=\"https://www.enib.fr/images/logo-enib-accueil.jpg\" style=\"width:120px\"/>\n",
    "</div>\n",
    "\n",
    "<h1><center>Généralités sur les filtres de second ordre</center></h1>\n",
    "\n",
    "Contributeurs:\n",
    "\n",
    "- Théophile ROOS\n",
    "- Mathéo MOIZAN\n",
    "- Lukas BONATRE\n"
   ],
   "cell_type": "markdown",
   "metadata": {}
  },
  {
   "cell_type": "code",
   "execution_count": 25,
   "metadata": {},
   "outputs": [],
   "source": [
    "from ipywidgets import interact, interactive, fixed, interact_manual\n",
    "import ipywidgets as widgets\n",
    "import numpy as np\n",
    "from SecondOrderElec import plot\n",
    "import ut\n",
    "%matplotlib inline\n"
   ]
  },
  {
   "source": [
    "Les filtres électronique d'ordre 2, partage le même dénominateur et partage donc la même équation caractéristiques.\n",
    "$$\n",
    "\\bar T = \\frac{T_0}{1+\\frac{2mp}{w_0} +\\frac{p^2}{{w_0}^2}}\n",
    "$$\n",
    "\n",
    "$$\n",
    "Den(p) = 1+\\frac{2mp}{w_0} +\\frac{p^2}{{w_0}^2}\n",
    "$$\n",
    "\n",
    "$$\n",
    "EqCar(X) = \\frac{1}{{w_0}^2} X^2 + \\frac{2m}{w_0} X  + 1 =0\n",
    "$$\n",
    "\n",
    "On peut donc en déduire que les pôles seront les mêmes pour tout les filtres.\n",
    "\n",
    "Si m>1:\n",
    "$$ \n",
    "p1 = p2^* = -w_0 (m \\pm \\sqrt{m^2-1})\n",
    "$$\n",
    "\n",
    "Si 0<m<1:\n",
    "$$ \n",
    "p1 = p2^* = -w_0 (m \\pm \\sqrt{1-m^2})\n",
    "$$\n",
    "\n",
    "On remarque que dans les deux cas $ w_0 $ est le coefficient qui va principalement définir le module des pôles"
   ],
   "cell_type": "markdown",
   "metadata": {}
  },
  {
   "cell_type": "code",
   "execution_count": 27,
   "metadata": {},
   "outputs": [
    {
     "output_type": "display_data",
     "data": {
      "text/plain": "interactive(children=(FloatSlider(value=10.0, description='w0: ', min=0.1, readout_format='.1f', step=1.0), Fl…",
      "application/vnd.jupyter.widget-view+json": {
       "version_major": 2,
       "version_minor": 0,
       "model_id": "aa3a6eca838b4bf4ae892faaec443de3"
      }
     },
     "metadata": {}
    }
   ],
   "source": [
    "m = widgets.FloatSlider(value=1, min=-1.2, max=2.1, step=0.1, description='m: ', disabled=False, continuous_update=True, orientation='horizontal', readout=True, readout_format='.1f')\n",
    "\n",
    "w0 = widgets.FloatSlider(value=10, min=0.1, max=100, step=1, description='w0: ', disabled=False, continuous_update=True, orientation='horizontal', readout=True, readout_format='.1f')\n",
    "\n",
    "interactive_plot = interactive(ut.show_influence_pz, w0=w0, T0=fixed(1.5), m=m)\n",
    "output = interactive_plot.children[-1]\n",
    "output.layout.height = '85px'\n",
    "interactive_plot"
   ]
  },
  {
   "source": [
    "- On remarque bien que la partie imaginaire des pôles n'existe que pour m strictement entre -1 et 1, quand on est pas entre ces deux bornes, le module des poles est plus ou moins w0). \n",
    "- La solution $Sl$ n'est pas définie pour $m=0$ car $e^{0t}$ n'est pas défini. \n",
    "- L'équation caractéristique n'est pas résolvable pour $w_0=0$"
   ],
   "cell_type": "markdown",
   "metadata": {}
  },
  {
   "source": [
    "### Sl(t) en influencé par w, w0 et T0"
   ],
   "cell_type": "markdown",
   "metadata": {}
  },
  {
   "cell_type": "code",
   "execution_count": 28,
   "metadata": {},
   "outputs": [
    {
     "output_type": "display_data",
     "data": {
      "text/plain": "interactive(children=(FloatSlider(value=10.0, description='w0: ', min=0.1, readout_format='.1f', step=1.0), Fl…",
      "application/vnd.jupyter.widget-view+json": {
       "version_major": 2,
       "version_minor": 0,
       "model_id": "f611f072e5594ceb9b24263759e3a53d"
      }
     },
     "metadata": {}
    }
   ],
   "source": [
    "m = widgets.FloatSlider(value=1, min=-1.2, max=2.1, step=0.1, description='m: ', disabled=False, continuous_update=True, orientation='horizontal', readout=True, readout_format='.1f')\n",
    "\n",
    "w0 = widgets.FloatSlider(value=10, min=0.1, max=100, step=1, description='w0: ', disabled=False, continuous_update=True, orientation='horizontal', readout=True, readout_format='.1f')\n",
    "\n",
    "T0 = widgets.FloatSlider(value=1, min=0.2, max=2, step=0.1, description='T0: ', disabled=False, continuous_update=True, orientation='horizontal', readout=True, readout_format='.1f')\n",
    "\n",
    "interactive_plot = interactive(ut.show_influence_sl, w0=w0, T0=T0, m=m)\n",
    "output = interactive_plot.children[-1]\n",
    "output.layout.height = '350px'\n",
    "interactive_plot"
   ]
  },
  {
   "source": [
    "> on peut voir qu'avec un $m<0$, le système est instable. Avec $m=0$ on obtient des pôles uniquement imaginaire et le système devient un oscillateur, un oscillateur étrange certe, mais bien un oscillateur. Dans les autres cas, le système est stable.\n",
    "\n",
    "> Plus $w0$ baisse et la réponse est longue, essayez donc de mettre le curseur tout à droite et tout à gauche (regardez bien, l'échelle de temps). L'amplification augmente avec $w0$. C'est normal $w0$ est au dénominateur des fraction dans le dénominateur de la fonction de transfert suivante:\n",
    "\n",
    "$$\n",
    "\\bar T = \\frac{T_0}{1+\\frac{2mp}{w_0} +\\frac{p^2}{{w_0}^2}}\n",
    "$$"
   ],
   "cell_type": "markdown",
   "metadata": {}
  },
  {
   "cell_type": "code",
   "execution_count": 29,
   "metadata": {},
   "outputs": [
    {
     "output_type": "display_data",
     "data": {
      "text/plain": "interactive(children=(FloatSlider(value=10.0, description='w0: ', min=0.1, readout_format='.1f', step=1.0), Fl…",
      "application/vnd.jupyter.widget-view+json": {
       "version_major": 2,
       "version_minor": 0,
       "model_id": "887d5b7cf7c349158e36b8a232aa3e39"
      }
     },
     "metadata": {}
    }
   ],
   "source": [
    "m = widgets.FloatSlider(value=1, min=-1.2, max=2.1, step=0.1, description='m: ', disabled=False, continuous_update=True, orientation='horizontal', readout=True, readout_format='.1f')\n",
    "\n",
    "w0 = widgets.FloatSlider(value=10, min=0.1, max=100, step=1, description='w0: ', disabled=False, continuous_update=True, orientation='horizontal', readout=True, readout_format='.1f')\n",
    "\n",
    "T0 = widgets.FloatSlider(value=1, min=0.2, max=2, step=0.1, description='T0: ', disabled=False, continuous_update=True, orientation='horizontal', readout=True, readout_format='.1f')\n",
    "\n",
    "def test(w, w0, T0, m):\n",
    "    \n",
    "    \n",
    "    def wrap(w, w0, T0, m):\n",
    "        den = ((1-(w**2)/(w0**2))**2+(2*m*w0)**2)**(3/2)\n",
    "        num = -0.5*T0*((w**2/w0**4)-(w/w0**2))\n",
    "\n",
    "        return den/num\n",
    "    plot.plot_bode(w, wrap(w, w0, T0, m))\n",
    "\n",
    "interactive_plot = interactive(test, w0=w0, T0=T0, m=m, w=fixed(np.linspace(1,300000, 10000)))\n",
    "output = interactive_plot.children[-1]\n",
    "output.layout.height = '350px'\n",
    "interactive_plot"
   ]
  },
  {
   "cell_type": "code",
   "execution_count": null,
   "metadata": {},
   "outputs": [],
   "source": []
  },
  {
   "cell_type": "code",
   "execution_count": null,
   "metadata": {},
   "outputs": [],
   "source": []
  },
  {
   "cell_type": "code",
   "execution_count": null,
   "metadata": {},
   "outputs": [],
   "source": []
  }
 ]
}