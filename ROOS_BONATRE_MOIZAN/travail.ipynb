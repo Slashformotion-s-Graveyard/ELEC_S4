{
 "cells": [
  {
   "cell_type": "markdown",
   "metadata": {},
   "source": [
    "<div style=\"float:right;padding-top:20px\">\n",
    "   <img src=\"https://www.enib.fr/images/logo-enib-accueil.jpg\" style=\"width:120px\"/>\n",
    "</div>\n",
    "\n",
    "<h1><center>Généralités sur les filtres de second ordre</center></h1>\n",
    "\n",
    "Contributeurs:\n",
    "\n",
    "- Théophile ROOS\n",
    "- Mathéo MOIZAN\n",
    "- Lukas BONATRE\n"
   ]
  },
  {
   "cell_type": "code",
   "execution_count": 6,
   "metadata": {},
   "outputs": [],
   "source": [
    "from ipywidgets import interact, interactive, fixed, interact_manual\n",
    "import ipywidgets as widgets\n",
    "import numpy as np\n",
    "from SecondOrderElec import plot\n",
    "from SecondOrderElec import LP\n",
    "from termcolor import colored\n",
    "\n",
    "%matplotlib inline"
   ]
  },
  {
   "cell_type": "markdown",
   "metadata": {},
   "source": [
    "# Introduction"
   ]
  },
  {
   "source": [
    "Les filtres passe-bas sont très utilisés en traitement du signal. \n",
    "Ils sont souvent utilisé dans les applications suivantes :\n",
    "- Extraction de valeur moyennes\n",
    "- filtrage de bruit \n",
    "- étage de lissage pour CAN"
   ],
   "cell_type": "markdown",
   "metadata": {}
  },
  {
   "source": [
    "# Quelques circuits passe-bas"
   ],
   "cell_type": "markdown",
   "metadata": {}
  },
  {
   "source": [
    "![](./static/img/Rauch_LP.svg)\n",
    "\n",
    "***Cellule de Rauch***\n",
    "\n",
    "![](./static/img/RC_RC_LP.svg)\n",
    "\n",
    "***RC_RC***\n",
    "\n",
    "![](./static/img/RLC_LP.svg)\n",
    "\n",
    "***RLC***\n",
    "\n",
    "![](./static/img/SK_LP.svg)\n",
    "\n",
    "***SallenKey***"
   ],
   "cell_type": "markdown",
   "metadata": {}
  },
  {
   "source": [
    "# Etude"
   ],
   "cell_type": "markdown",
   "metadata": {}
  },
  {
   "cell_type": "markdown",
   "metadata": {},
   "source": [
    "## Bodes"
   ]
  },
  {
   "cell_type": "code",
   "execution_count": 7,
   "metadata": {},
   "outputs": [
    {
     "output_type": "display_data",
     "data": {
      "text/plain": "interactive(children=(FloatSlider(value=10.0, description='w0: ', min=0.1, readout_format='.1f', step=1.0), Fl…",
      "application/vnd.jupyter.widget-view+json": {
       "version_major": 2,
       "version_minor": 0,
       "model_id": "7ff1531ccc9c4764960202cc40e7ef7a"
      }
     },
     "metadata": {}
    }
   ],
   "source": [
    "m = widgets.FloatSlider(value=1, min=-1.1, max=2.1, step=0.2, description='m: ', disabled=False, continuous_update=True, orientation='horizontal', readout=True, readout_format='.1f')\n",
    "\n",
    "w0 = widgets.FloatSlider(value=10, min=0.1, max=100, step=1, description='w0: ', disabled=False, continuous_update=True, orientation='horizontal', readout=True, readout_format='.1f')\n",
    "\n",
    "T0 = widgets.FloatSlider(value=1, min=0.2, max=2, step=0.1, description='T0: ', disabled=False, continuous_update=True, orientation='horizontal', readout=True, readout_format='.1f')\n",
    "\n",
    "def draw_bode(w0, T0, m):\n",
    "    \n",
    "    if -1/np.sqrt(2) < m < 1/np.sqrt(2):    \n",
    "        print(colored(\"[m] On peut voir ici que Tmax est supérieur à T0. Le point le plus haut de la courbe est donc (wr, T0/2m).\"),'red')\n",
    "    else:\n",
    "        print(\"[m] On peut voir ici que T0 est le Tmax.\")\n",
    "        \n",
    "    print(\"    Plus m est petit, plus le basculement de la phase est rapide.\")\n",
    "\n",
    "    print()\n",
    "    print(\"[T0] T0 est Ti, essayez de l'augmenter pour voir.\")\n",
    "    print()\n",
    "    print(\"[w0] En changeant w0 on peut voir une translation sur l'axe X.\")\n",
    "\n",
    "    T = LP(w0=w0, T0=T0, m=m)\n",
    "    T.freqresp()\n",
    "\n",
    "\n",
    "interactive_plot = interactive(draw_bode, w0=w0, T0=T0, m=m)\n",
    "output = interactive_plot.children[-1]\n",
    "output.layout.height = '700px'\n",
    "interactive_plot"
   ]
  },
  {
   "cell_type": "markdown",
   "metadata": {},
   "source": [
    "## Réponse impulsionelle"
   ]
  },
  {
   "cell_type": "markdown",
   "metadata": {},
   "source": [
    "> Nous allons étudier la réponse indicielle ci dessous. Nous n'avons donc pas besoin d'étudier la réponse impulsionelle."
   ]
  },
  {
   "cell_type": "markdown",
   "metadata": {},
   "source": [
    "## Réponse indicielle"
   ]
  },
  {
   "cell_type": "code",
   "execution_count": 8,
   "metadata": {},
   "outputs": [
    {
     "output_type": "display_data",
     "data": {
      "text/plain": "interactive(children=(FloatSlider(value=10.0, description='w0: ', min=0.1, readout_format='.1f', step=1.0), Fl…",
      "application/vnd.jupyter.widget-view+json": {
       "version_major": 2,
       "version_minor": 0,
       "model_id": "410a30040b424fd380b47076cd1d1caa"
      }
     },
     "metadata": {}
    }
   ],
   "source": [
    "m = widgets.FloatSlider(value=1, min=-1.1, max=2.1, step=0.1, description='m: ', disabled=False, continuous_update=True, orientation='horizontal', readout=True, readout_format='.1f')\n",
    "\n",
    "w0 = widgets.FloatSlider(value=10, min=0.1, max=100, step=1, description='w0: ', disabled=False, continuous_update=True, orientation='horizontal', readout=True, readout_format='.1f')\n",
    "\n",
    "T0 = widgets.FloatSlider(value=1, min=0.2, max=2, step=0.1, description='T0: ', disabled=False, continuous_update=True, orientation='horizontal', readout=True, readout_format='.1f')\n",
    "\n",
    "def draw_indicielle(w0, T0, m):\n",
    "    if m<0:\n",
    "        print(\"[m] m est inférieur à 0, le système est donc instable.\")\n",
    "    elif m==0:\n",
    "        print(\"[m] m égal à 0, le système est donc un oscillateur.\")\n",
    "    else:\n",
    "        print(\"[m] m est supérieur à zéro, le système est stable.\")\n",
    "        \n",
    "\n",
    "    print()\n",
    "    \n",
    "    print(\"[T0] T0 fait varier l'amplitude de la réponse\")\n",
    "    print()\n",
    "    print(\"[w0] Plus w0 est grand, plus la réponse est rapide.\")\n",
    "    \n",
    "    \n",
    "\n",
    "    T = LP(w0=w0, T0=T0, m=m)\n",
    "    T.step()\n",
    "\n",
    "\n",
    "interactive_plot = interactive(draw_indicielle, w0=w0, T0=T0, m=m)\n",
    "output = interactive_plot.children[-1]\n",
    "output.layout.height = '500px'\n",
    "interactive_plot"
   ]
  },
  {
   "cell_type": "markdown",
   "metadata": {},
   "source": [
    "## Pôles et Zéros"
   ]
  },
  {
   "cell_type": "markdown",
   "metadata": {},
   "source": [
    "Les filtres électronique d'ordre 2, partage le même dénominateur et partage donc la même équation caractéristiques.\n",
    "$$\n",
    "\\bar T = \\frac{T_0}{1+\\frac{2mp}{w_0} +\\frac{p^2}{{w_0}^2}}\n",
    "$$\n",
    "\n",
    "$$\n",
    "Den(p) = 1+\\frac{2mp}{w_0} +\\frac{p^2}{{w_0}^2}\n",
    "$$\n",
    "\n",
    "$$\n",
    "EqCar(X) = \\frac{1}{{w_0}^2} X^2 + \\frac{2m}{w_0} X  + 1 =0\n",
    "$$\n",
    "\n",
    "On peut donc en déduire que les pôles seront les mêmes pour tout les filtres.\n",
    "\n",
    "Si m>1:\n",
    "$$ \n",
    "p1 = p2^* = -w_0 (m \\pm \\sqrt{m^2-1})\n",
    "$$\n",
    "\n",
    "Si 0<m<1:\n",
    "$$ \n",
    "p1 = p2^* = -w_0 (m \\pm \\sqrt{1-m^2})\n",
    "$$\n",
    "\n",
    "On remarque que dans les deux cas $ w_0 $ est le coefficient qui va principalement définir le module des pôles"
   ]
  },
  {
   "cell_type": "code",
   "execution_count": 9,
   "metadata": {},
   "outputs": [
    {
     "output_type": "display_data",
     "data": {
      "text/plain": "interactive(children=(FloatSlider(value=10.0, description='w0: ', min=0.1, readout_format='.1f', step=1.0), Fl…",
      "application/vnd.jupyter.widget-view+json": {
       "version_major": 2,
       "version_minor": 0,
       "model_id": "96bdb02465604176a2d8d5c114bc6817"
      }
     },
     "metadata": {}
    }
   ],
   "source": [
    "m = widgets.FloatSlider(value=1, min=-1.2, max=2.1, step=0.1, description='m: ', disabled=False, continuous_update=True, orientation='horizontal', readout=True, readout_format='.1f')\n",
    "\n",
    "w0 = widgets.FloatSlider(value=10, min=0.1, max=100, step=1, description='w0: ', disabled=False, continuous_update=True, orientation='horizontal', readout=True, readout_format='.1f')\n",
    "\n",
    "def draw_pz(w0,T0, m):\n",
    "    T = LP(w0 = w0,T0 = T0, m = m)\n",
    "    p, z = T.pzmap()\n",
    "    print(f\"Zéros: {z}\")\n",
    "    print(f\"Pôles: {p}\")\n",
    "    if m<0:\n",
    "        print(\"[m] m est inférieur à 0, le système est donc instable.\")\n",
    "    elif m==0:\n",
    "        print(\"[m] m égal à 0, le système est donc un oscillateur. Les pôles sont uniquement imaginaires.\")\n",
    "    else:\n",
    "        if m<1:\n",
    "            print(\"[m] m est compris entre 0 et 1, le système est stable. Les pôles sont conjugés.\")\n",
    "        else:\n",
    "            print(\"[m] m est supérieur à 1, le système est stable. Les pôles sont réels.\")\n",
    "\n",
    "\n",
    "interactive_plot = interactive(draw_pz, w0=w0, T0=fixed(1.5), m=m)\n",
    "output = interactive_plot.children[-1]\n",
    "output.layout.height = '300px'\n",
    "interactive_plot"
   ]
  },
  {
   "cell_type": "markdown",
   "metadata": {},
   "source": [
    "- On remarque bien que la partie imaginaire des pôles n'existe que pour m strictement entre -1 et 1, quand on est pas entre ces deux bornes, le module des poles est plus ou moins w0). \n",
    "- La solution $Sl$ n'est pas définie pour $m=0$ car $e^{0t}$ n'est pas défini. \n",
    "- L'équation caractéristique n'est pas résolvable pour $w_0=0$"
   ]
  }
 ],
 "metadata": {
  "kernelspec": {
   "display_name": "Python 3",
   "language": "python",
   "name": "python3"
  },
  "language_info": {
   "codemirror_mode": {
    "name": "ipython",
    "version": 3
   },
   "file_extension": ".py",
   "mimetype": "text/x-python",
   "name": "python",
   "nbconvert_exporter": "python",
   "pygments_lexer": "ipython3",
   "version": "3.7.4-final"
  }
 },
 "nbformat": 4,
 "nbformat_minor": 2
}