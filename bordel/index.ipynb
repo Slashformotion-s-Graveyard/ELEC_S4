{
 "metadata": {
  "language_info": {
   "codemirror_mode": {
    "name": "ipython",
    "version": 3
   },
   "file_extension": ".py",
   "mimetype": "text/x-python",
   "name": "python",
   "nbconvert_exporter": "python",
   "pygments_lexer": "ipython3",
   "version": "3.8.2-final"
  },
  "orig_nbformat": 2,
  "kernelspec": {
   "name": "Python 3.8.2 64-bit",
   "display_name": "Python 3.8.2 64-bit",
   "metadata": {
    "interpreter": {
     "hash": "31f2aee4e71d21fbe5cf8b01ff0e069b9275f58929596ceb00d14d90e3e16cd6"
    }
   }
  }
 },
 "nbformat": 4,
 "nbformat_minor": 2,
 "cells": [
  {
   "source": [
    "<div style=\"float:right;padding-top:20px\">\n",
    "   <img src=\"https://www.enib.fr/images/logo-enib-accueil.jpg\" style=\"width:120px\"/>\n",
    "</div>\n",
    "\n",
    "<h1><center>Synthèse Low-Pass</center></h1>\n",
    "\n",
    "Contributeurs:\n",
    "\n",
    "- Théophile ROOS\n",
    "- Mathéo MOIZAN\n",
    "- Lukas BONATRE\n",
    "\n"
   ],
   "cell_type": "markdown",
   "metadata": {}
  },
  {
   "source": [
    "Bienvenue ! Dans ce set de notebooks vous allez pouvoir voir les effets des paramètres `m`, `T0` et `w0`."
   ],
   "cell_type": "markdown",
   "metadata": {}
  },
  {
   "source": [
    "Nous avons divisé ce projet en 3 parties, les [généralités](./LP/Generalite.ipynb) qui concernent tout ce qui est commun au Low-Pass, High-Pass, Notch et Band-Pass, les [spécificités](./LP/Specifics.ipynb) du Low-Pass, et enfin une partie [interactive](./LP/interactive.ipynb) pour voir en \"temps réel\" les influences des différents paramètres. Cette dernière partie permet de ne pas trop encombrer les autres."
   ],
   "cell_type": "markdown",
   "metadata": {}
  },
  {
   "source": [
    "Nous allons utiliser la librairie [SecondOrderElec](https://pypi.org/project/SecondOrderElec/). Elle est basée sur le travail Vincent Choqueuse. C'est une version débuggée, [testée](https://travis-ci.org/github/slashformotion/SecondOrderElec) et [documentée](https://secondorderelec.readthedocs.io/en/latest/) de son projet `ENIB_elec`. Elle reprend le fonctionnement du grapheur d'ordre 1 que nous avons étudié en début d'année."
   ],
   "cell_type": "markdown",
   "metadata": {}
  }
 ]
}