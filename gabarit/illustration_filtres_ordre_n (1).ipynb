{
 "cells": [
  {
   "cell_type": "markdown",
   "metadata": {},
   "source": [
    "<img style=\"float: right;width: 100px\" src=\"https://www.enib.fr/images/logo-enib-accueil.jpg\">\n",
    "\n",
    "# Electronique S4 \n",
    "# prise en main des fonctions scipy permettant l'étude des filtres ordre n\n"
   ]
  },
  {
   "cell_type": "code",
   "execution_count": 1,
   "metadata": {},
   "outputs": [],
   "source": [
    "%matplotlib inline \n",
    "from numpy import *\n",
    "from matplotlib.pyplot import *\n",
    "import scipy.signal as sig\n",
    "import lib_electronic_V3 as lib\n",
    "import warnings\n",
    "warnings.filterwarnings('ignore')"
   ]
  },
  {
   "cell_type": "markdown",
   "metadata": {},
   "source": [
    "## definition du gabarit passe bas recherché\n",
    "On recherche un filtre permettant de laisser passer les signaux jusqu'à 2kHz avec une bande passante de 3dB puis de les atténuer d'au moins 80dB à partir de 10kHz"
   ]
  },
  {
   "cell_type": "markdown",
   "metadata": {},
   "source": [
    "### définitions des valeurs permettant de tracer le gabarit"
   ]
  },
  {
   "cell_type": "code",
   "execution_count": 2,
   "metadata": {},
   "outputs": [
    {
     "name": "stdout",
     "output_type": "stream",
     "text": [
      "Tc (naturel)= 0.7079457843841379 Ts (naturel) = 0.0001\n",
      "bande passante (dB)= 3 attenuation min dans stop band (dB) = 80\n"
     ]
    }
   ],
   "source": [
    "fc = 2000\n",
    "fs = 10000\n",
    "T0 = 1\n",
    "Gc = 3\n",
    "Gs = 80\n",
    "Tc = 10**(-Gc/20)\n",
    "Ts = 10**(-Gs/20)\n",
    "print( \"Tc (naturel)=\", Tc, \"Ts (naturel) =\", Ts)\n",
    "print(\"bande passante (dB)=\", Gc, \"attenuation min dans stop band (dB) =\", Gs)"
   ]
  },
  {
   "cell_type": "markdown",
   "metadata": {},
   "source": [
    "### Calcul de l'ordre min du filtre permettant de passer la courbe de module dans le gabarit"
   ]
  },
  {
   "cell_type": "code",
   "execution_count": 3,
   "metadata": {},
   "outputs": [],
   "source": [
    "N= 2"
   ]
  },
  {
   "cell_type": "markdown",
   "metadata": {},
   "source": [
    "### Tracé du gabarit\n",
    "une bibliotheque est fournie"
   ]
  },
  {
   "cell_type": "code",
   "execution_count": 4,
   "metadata": {},
   "outputs": [
    {
     "data": {
      "image/png": "[encoded data removed]",
      "text/plain": [
       "<Figure size 432x288 with 1 Axes>"
      ]
     },
     "metadata": {
      "needs_background": "light"
     },
     "output_type": "display_data"
    }
   ],
   "source": [
    "lib.draw_prototype(fc,Tc,fs,Ts,filter_type=\"lowpass\",xaxes_type=\"f\", yaxes_type = \"T\")\n"
   ]
  },
  {
   "cell_type": "markdown",
   "metadata": {},
   "source": [
    "## normalisation des données pour utilisation des fonctions scipy et travail sur polynomes normalisés"
   ]
  },
  {
   "cell_type": "code",
   "execution_count": 5,
   "metadata": {},
   "outputs": [
    {
     "ename": "SyntaxError",
     "evalue": "invalid syntax (<ipython-input-5-c6e9d665625e>, line 3)",
     "output_type": "error",
     "traceback": [
      "\u001b[1;36m  File \u001b[1;32m\"<ipython-input-5-c6e9d665625e>\"\u001b[1;36m, line \u001b[1;32m3\u001b[0m\n\u001b[1;33m    Nc =\u001b[0m\n\u001b[1;37m        ^\u001b[0m\n\u001b[1;31mSyntaxError\u001b[0m\u001b[1;31m:\u001b[0m invalid syntax\n"
     ]
    }
   ],
   "source": [
    "wc =1\n",
    "#pour la fonction elliptique (filtres de Cauer) l'ordre et la pulsation sont à calculer différement\n",
    "Nc =\n",
    "\n",
    "wcc=\n"
   ]
  },
  {
   "cell_type": "markdown",
   "metadata": {},
   "source": [
    "## Tracé du gabarit normalisé¶"
   ]
  },
  {
   "cell_type": "code",
   "execution_count": null,
   "metadata": {},
   "outputs": [],
   "source": []
  },
  {
   "cell_type": "markdown",
   "metadata": {},
   "source": [
    "## definition des systèmes linéaires normalisés en utilisant les approximations\n",
    "Plusieurs approximations des polynomes dénominateurs permettent de rentrer dans le gabarit demandé.\n",
    "Des fonctions définies dans la bibliothèques scipy sont utilisées : \n",
    "* butter : https://docs.scipy.org/doc/scipy/reference/generated/scipy.signal.butter.html\n",
    "* cheby1 (ondulation dans la bande passante et non dans la bande coupée) : https://docs.scipy.org/doc/scipy/reference/generated/scipy.signal.cheby1.html\n",
    "* bessel : https://docs.scipy.org/doc/scipy/reference/generated/scipy.signal.bessel.html\n",
    "* ellip pour les filtres de Cauer encore appelés filtres elliptiques : https://docs.scipy.org/doc/scipy/reference/generated/scipy.signal.ellip.html\n",
    "Lire la documentation et vérfier le bon paramétrage des fonctions appelées ci dessous"
   ]
  },
  {
   "cell_type": "code",
   "execution_count": null,
   "metadata": {},
   "outputs": [],
   "source": [
    "[z1,p1,k1] = sig.butter(N,wc,btype='low',analog=True,output='zpk')\n",
    "H_butter=sig.lti(z1,p1,k1)\n",
    "[z2,p2,k2] = sig.cheby1(N,np.abs(Gc),wc,btype='low',analog=True,output='zpk')\n",
    "H_cheby = sig.lti(z2,p2,k2)\n",
    "# filtre bessel optimisé pour respecter la pulsation de cassure à -3dB - paramètre norm = 'mag'\n",
    "[z3,p3,k3]= sig.bessel(N, wc, btype='low',analog=True,norm = 'mag', output='zpk')\n",
    "H_bessel = sig.lti(z3,p3,k3)\n",
    "# filtre bessel optimisé pour respecter la linéarité de phase autour de wC- paramètre norm = 'phase'\n",
    "[z3phi,p3phi,k3phi] = sig.bessel(N, wc, btype='low',analog=True,norm = 'phase', output='zpk')\n",
    "H_bessel_phi = sig.lti(z3phi,p3phi,k3phi)\n",
    "# filtre bessel optimisé pour respecter la temps de propagation de groupe en 1/wC- paramètre norm\n",
    "[z3delay,p3delay,k3delay] = sig.bessel(N, wc, btype='low',analog=True,norm = 'delay', output='zpk')\n",
    "H_bessel_tps = sig.lti(z3delay,p3delay,k3delay)\n",
    "#filtre cauer avec ordre spécifique\n",
    "[z4,p4,k4] = sig.ellip(Nc,np.abs(Gc),np.abs(Gs),wcc,btype='low',analog=True,output='zpk')\n",
    "H_cauer = sig.lti(z4,p4,k4)"
   ]
  },
  {
   "cell_type": "markdown",
   "metadata": {},
   "source": [
    "## Diagramme des pôles et zéros sur axes normalisés par rapport à wc\n",
    "générer les pôles de chacun des systemes lti définis.\n",
    "on rappelle que les atributs .poles et .zeros sont directement définis pour la classe lti\n",
    "Représenter ensuite tous les pôles dans le même repère et retrouver les propriétés de chacune des approximations"
   ]
  },
  {
   "cell_type": "code",
   "execution_count": null,
   "metadata": {},
   "outputs": [],
   "source": []
  },
  {
   "cell_type": "markdown",
   "metadata": {},
   "source": [
    "### représentation dénormalisée (axes en rad/s)\n",
    "Revenir au diagramme sur repère en rad/s"
   ]
  },
  {
   "cell_type": "code",
   "execution_count": null,
   "metadata": {},
   "outputs": [],
   "source": []
  },
  {
   "cell_type": "markdown",
   "metadata": {},
   "source": [
    "## Création des polynomes numérateurs et dénominateurs normalisés\n",
    "PLusieurs options permettent de renvoyer les pôles, zéros et le gain (coefficient amplificateur du numérateur) d'un systeme lti ou les coefficients de son numérateurs et son dénominateurles systemes lti )..."
   ]
  },
  {
   "cell_type": "code",
   "execution_count": null,
   "metadata": {},
   "outputs": [],
   "source": []
  },
  {
   "cell_type": "markdown",
   "metadata": {},
   "source": [
    "# Diagrammes de Bode\n",
    "Trouver dans la bibliothèque fournie les fonction permettant d'afficher les diagrammes de Bode des différents systèmes lti définis plus haut"
   ]
  },
  {
   "cell_type": "code",
   "execution_count": null,
   "metadata": {},
   "outputs": [],
   "source": []
  },
  {
   "cell_type": "markdown",
   "metadata": {},
   "source": [
    "### zoom auour de f/fc=1"
   ]
  },
  {
   "cell_type": "code",
   "execution_count": null,
   "metadata": {},
   "outputs": [],
   "source": []
  },
  {
   "cell_type": "markdown",
   "metadata": {},
   "source": [
    "# reponses indicielles"
   ]
  },
  {
   "cell_type": "code",
   "execution_count": null,
   "metadata": {},
   "outputs": [],
   "source": [
    "t_e = arange(0,70/wc,0.00001)\n",
    "[t_1, imp_1] = H_butter.step(T=t_e)\n"
   ]
  },
  {
   "cell_type": "markdown",
   "metadata": {},
   "source": [
    "### analyse plus spécifique des extrema pour chebishev\n"
   ]
  },
  {
   "cell_type": "markdown",
   "metadata": {},
   "source": [
    "* pulsations propre et coefficients d'amortissement des différentes paires de pôles"
   ]
  },
  {
   "cell_type": "code",
   "execution_count": null,
   "metadata": {},
   "outputs": [],
   "source": []
  },
  {
   "cell_type": "markdown",
   "metadata": {},
   "source": [
    "* fréquences de résonance des cellules"
   ]
  },
  {
   "cell_type": "code",
   "execution_count": null,
   "metadata": {},
   "outputs": [],
   "source": []
  },
  {
   "cell_type": "markdown",
   "metadata": {},
   "source": [
    "* fréquences des extrema de la courbe de module dans la bande passante"
   ]
  },
  {
   "cell_type": "code",
   "execution_count": null,
   "metadata": {},
   "outputs": [],
   "source": []
  },
  {
   "cell_type": "markdown",
   "metadata": {},
   "source": [
    "# etude des polynomes-extraction des racines\n",
    "vous présenterez ici les polynomes normalisés factorisés en terme d'ordre 2 et 1 et les couples FSF et Q de chaque cellule correspondante.\n",
    "Vous pourrez vérifier que les pôle dénormalisés donnent bien des couples m et w0 cohérents."
   ]
  },
  {
   "cell_type": "markdown",
   "metadata": {},
   "source": [
    "* Butterworth"
   ]
  },
  {
   "cell_type": "code",
   "execution_count": null,
   "metadata": {},
   "outputs": [],
   "source": [
    "print(\"coefficients du dénominateur de Butterworth\", den1)\n",
    "r1=.roots(den1)\n",
    "print(\"racines du dénominateur\",r1)\n",
    "r1_norm = r1/wc\n",
    "print(\"racines normalisées par rapport à wC\",r1_norm)\n",
    "\n",
    "\n"
   ]
  },
  {
   "cell_type": "code",
   "execution_count": null,
   "metadata": {},
   "outputs": [],
   "source": []
  },
  {
   "cell_type": "markdown",
   "metadata": {},
   "source": [
    "* Chebyshev"
   ]
  },
  {
   "cell_type": "code",
   "execution_count": null,
   "metadata": {},
   "outputs": [],
   "source": []
  },
  {
   "cell_type": "code",
   "execution_count": null,
   "metadata": {},
   "outputs": [],
   "source": []
  }
 ],
 "metadata": {
  "kernelspec": {
   "display_name": "Python 3",
   "language": "python",
   "name": "python3"
  },
  "language_info": {
   "codemirror_mode": {
    "name": "ipython",
    "version": 3
   },
   "file_extension": ".py",
   "mimetype": "text/x-python",
   "name": "python",
   "nbconvert_exporter": "python",
   "pygments_lexer": "ipython3",
   "version": "3.8.3"
  }
 },
 "nbformat": 4,
 "nbformat_minor": 2
}
